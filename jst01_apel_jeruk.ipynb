{
  "nbformat": 4,
  "nbformat_minor": 0,
  "metadata": {
    "colab": {
      "provenance": []
    },
    "kernelspec": {
      "name": "python3",
      "display_name": "Python 3"
    },
    "language_info": {
      "name": "python"
    }
  },
  "cells": [
    {
      "cell_type": "code",
      "execution_count": null,
      "metadata": {
        "id": "1vo5uL_Urb29"
      },
      "outputs": [],
      "source": [
        "import numpy as np\n",
        "\n",
        "#Siapkan dataset\n",
        "x = np.array([[1,1,0],\n",
        "              [0,1,1]])\n",
        "y = np.array([[1],[1]])  # 1 untuk apel, 0 untuk jeruk"
      ]
    },
    {
      "cell_type": "code",
      "source": [
        "y[1]"
      ],
      "metadata": {
        "colab": {
          "base_uri": "https://localhost:8080/"
        },
        "id": "XbR6HSfM1z2m",
        "outputId": "47c46a37-60cb-4d16-8d0a-821d4ceb31a4"
      },
      "execution_count": null,
      "outputs": [
        {
          "output_type": "execute_result",
          "data": {
            "text/plain": [
              "array([0])"
            ]
          },
          "metadata": {},
          "execution_count": 54
        }
      ]
    },
    {
      "cell_type": "code",
      "source": [
        "# Inisialisasi bobot dan bias secara acak\n",
        "np.random.seed(0)\n",
        "w = np.random.randn(3, 1)  # bobot\n",
        "b = np.random.randn(1)  # bias\n"
      ],
      "metadata": {
        "id": "eMikNR_2sVwe"
      },
      "execution_count": null,
      "outputs": []
    },
    {
      "cell_type": "code",
      "source": [
        "print('w=',w,'- b=',b)"
      ],
      "metadata": {
        "colab": {
          "base_uri": "https://localhost:8080/"
        },
        "id": "UP87leyhwzUV",
        "outputId": "3944e0b1-6974-4731-e720-69b172955d39"
      },
      "execution_count": null,
      "outputs": [
        {
          "output_type": "stream",
          "name": "stdout",
          "text": [
            "w= [[1.76405235]\n",
            " [0.40015721]\n",
            " [0.97873798]] - b= [2.2408932]\n"
          ]
        }
      ]
    },
    {
      "cell_type": "code",
      "source": [
        "# Aktivasi step function\n",
        "def step_function(x):\n",
        "    return np.where(x >= 0, 1, 0)"
      ],
      "metadata": {
        "id": "AosTz81duEtH"
      },
      "execution_count": null,
      "outputs": []
    },
    {
      "cell_type": "code",
      "source": [
        "# Training dengan Perceptron Learning Algorithm\n",
        "learning_rate = 0.1\n",
        "epochs = 10\n",
        "for epoch in range(epochs):\n",
        "    for i in range(len(x)):\n",
        "        # Feedforward\n",
        "        z = np.dot(x[i], w) + b\n",
        "        y_pred = step_function(z)\n",
        "\n",
        "        # Update bobot dan bias jika prediksi salah\n",
        "        if y_pred != y[i]:\n",
        "            w += learning_rate * x[i].reshape(-1, 1) * (y[i] - y_pred)\n",
        "            b += learning_rate * (y[i] - y_pred)\n"
      ],
      "metadata": {
        "id": "egtZqlazvnUs"
      },
      "execution_count": null,
      "outputs": []
    },
    {
      "cell_type": "code",
      "source": [
        "# Prediksi dengan data baru\n",
        "new_data = np.array([[1,0,1], [1,1,0], [0,0,1], [0,0,0]])\n",
        "predictions = step_function(np.dot(new_data, w) + b)\n",
        "\n",
        "# Menampilkan hasil prediksi\n",
        "for i in range(len(new_data)):\n",
        "    if predictions[i] == 1:\n",
        "        print(\"Data\", new_data[i], \"merupakan apel\")\n",
        "    else:\n",
        "        print(\"Data\", new_data[i], \"merupakan jeruk\")"
      ],
      "metadata": {
        "colab": {
          "base_uri": "https://localhost:8080/"
        },
        "id": "UPQF8o7V2zUm",
        "outputId": "e3ddcac4-1f26-40f3-da52-7d992e211c18"
      },
      "execution_count": null,
      "outputs": [
        {
          "output_type": "stream",
          "name": "stdout",
          "text": [
            "Data [1 0 1] merupakan apel\n",
            "Data [1 1 0] merupakan apel\n",
            "Data [0 0 1] merupakan apel\n",
            "Data [0 0 0] merupakan apel\n"
          ]
        }
      ]
    }
  ]
}