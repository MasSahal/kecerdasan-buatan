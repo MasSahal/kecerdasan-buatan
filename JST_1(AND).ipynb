{
  "nbformat": 4,
  "nbformat_minor": 0,
  "metadata": {
    "colab": {
      "provenance": []
    },
    "kernelspec": {
      "name": "python3",
      "display_name": "Python 3"
    },
    "language_info": {
      "name": "python"
    }
  },
  "cells": [
    {
      "cell_type": "code",
      "execution_count": null,
      "metadata": {
        "id": "seucHjB_i7J1"
      },
      "outputs": [],
      "source": [
        "def predict(row, weights):\n",
        "  activation = weights[0]\n",
        "  for i in range(len(row)-1):\n",
        "    activation += weights[i + 1] * row[i]\n",
        "  return 1.0 if activation >= 0.0 else 0.0"
      ]
    },
    {
      "cell_type": "code",
      "source": [
        "import numpy as np\n",
        "arr_error = []\n",
        "def train_weights(train, l_rate, n_epoch):\n",
        "  weights = [0.0 for i in range(len(train[0]))]\n",
        "  for epoch in range(n_epoch):\n",
        "    sum_error = 0.0\n",
        "    for row in train:\n",
        "      prediction = predict(row, weights)\n",
        "      error = row[-1] - prediction\n",
        "      sum_error += error**2\n",
        "      weights[0] = weights[0] + l_rate * error\n",
        "      #print(weights[0])\n",
        "      for i in range(len(row)-1):\n",
        "        weights[i + 1] = weights[i + 1] + l_rate * error * row[i]\n",
        "    print('>epoch=%d, lrate=%.3f, error=%.3f' % (epoch, l_rate, sum_error))\n",
        "    arr_error.append(sum_error)\n",
        "  return weights, arr_error"
      ],
      "metadata": {
        "id": "8HKbWwgjj31b"
      },
      "execution_count": null,
      "outputs": []
    },
    {
      "cell_type": "code",
      "source": [
        "# Contoh Kasus AND\n",
        "# Kolom pertama = X1, Kolom kedua = X2, Kolom ketiga = target (label kelas)\n",
        "dataset = [[0, 0, 0],\n",
        "           [0, 1, 0],\n",
        "           [1, 0, 0],\n",
        "           [1, 1, 1]]\n",
        "\n",
        "weights = [0, 0, 0] #bias, w1, w2\n",
        "l_rate = 1\n",
        "n_epoch = 10\n",
        "weights, arr_error = train_weights(dataset, l_rate, n_epoch)\n",
        "print(weights)\n"
      ],
      "metadata": {
        "colab": {
          "base_uri": "https://localhost:8080/"
        },
        "id": "4y2HlnpIkBRh",
        "outputId": "83ba9dbc-7c57-447d-cda3-3a8197f6c7cd"
      },
      "execution_count": null,
      "outputs": [
        {
          "output_type": "stream",
          "name": "stdout",
          "text": [
            ">epoch=0, lrate=1.000, error=2.000\n",
            ">epoch=1, lrate=1.000, error=3.000\n",
            ">epoch=2, lrate=1.000, error=3.000\n",
            ">epoch=3, lrate=1.000, error=2.000\n",
            ">epoch=4, lrate=1.000, error=1.000\n",
            ">epoch=5, lrate=1.000, error=0.000\n",
            ">epoch=6, lrate=1.000, error=0.000\n",
            ">epoch=7, lrate=1.000, error=0.000\n",
            ">epoch=8, lrate=1.000, error=0.000\n",
            ">epoch=9, lrate=1.000, error=0.000\n",
            "[-3.0, 2.0, 1.0]\n"
          ]
        }
      ]
    },
    {
      "cell_type": "code",
      "source": [
        "# Contoh Kasus Apel dan Jeruk\n",
        "# Kolom pertama = X1, Kolom kedua = X2, Kolom ketiga = target (label kelas)\n",
        "dataset = [[1, 1, 0, 1],\n",
        "           [0, 1, 1, 0]]\n",
        "\n",
        "weights = [0, 0.5, 0.5, 0.5] #bias, w1, w2, w3\n",
        "l_rate = 1\n",
        "n_epoch = 10\n",
        "weights, arr_error = train_weights(dataset, l_rate, n_epoch)\n",
        "print(weights)"
      ],
      "metadata": {
        "colab": {
          "base_uri": "https://localhost:8080/"
        },
        "id": "kFV0nzrqMMTg",
        "outputId": "75aebc8c-516d-4666-a76c-c8f5a9a12434"
      },
      "execution_count": null,
      "outputs": [
        {
          "output_type": "stream",
          "name": "stdout",
          "text": [
            ">epoch=0, lrate=1.000, error=1.000\n",
            ">epoch=1, lrate=1.000, error=1.000\n",
            ">epoch=2, lrate=1.000, error=0.000\n",
            ">epoch=3, lrate=1.000, error=0.000\n",
            ">epoch=4, lrate=1.000, error=0.000\n",
            ">epoch=5, lrate=1.000, error=0.000\n",
            ">epoch=6, lrate=1.000, error=0.000\n",
            ">epoch=7, lrate=1.000, error=0.000\n",
            ">epoch=8, lrate=1.000, error=0.000\n",
            ">epoch=9, lrate=1.000, error=0.000\n",
            "[0.0, 1.0, 0.0, -1.0]\n"
          ]
        }
      ]
    }
  ]
}